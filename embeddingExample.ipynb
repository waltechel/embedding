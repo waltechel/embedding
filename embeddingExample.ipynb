{
  "nbformat": 4,
  "nbformat_minor": 0,
  "metadata": {
    "colab": {
      "name": "embeddingExample.ipynb",
      "provenance": [],
      "authorship_tag": "ABX9TyOGNERzQBTOPCOrg6Qwqdmx",
      "include_colab_link": true
    },
    "kernelspec": {
      "name": "python3",
      "display_name": "Python 3"
    },
    "language_info": {
      "name": "python"
    }
  },
  "cells": [
    {
      "cell_type": "markdown",
      "metadata": {
        "id": "view-in-github",
        "colab_type": "text"
      },
      "source": [
        "<a href=\"https://colab.research.google.com/github/waltechel/embedding/blob/master/embeddingExample.ipynb\" target=\"_parent\"><img src=\"https://colab.research.google.com/assets/colab-badge.svg\" alt=\"Open In Colab\"/></a>"
      ]
    },
    {
      "cell_type": "code",
      "metadata": {
        "id": "-anZD-GVGcq5"
      },
      "source": [
        "# <한국어 임베딩> 책의 소스를 코랩으로 작동시키려고 하기 위한 연습"
      ],
      "execution_count": null,
      "outputs": []
    }
  ]
}