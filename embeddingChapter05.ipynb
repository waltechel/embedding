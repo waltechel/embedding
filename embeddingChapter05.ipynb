{
  "nbformat": 4,
  "nbformat_minor": 0,
  "metadata": {
    "colab": {
      "name": "Untitled3.ipynb",
      "private_outputs": true,
      "provenance": [],
      "authorship_tag": "ABX9TyNaN6gsjP95rA3yU66PB+dI"
    },
    "kernelspec": {
      "name": "python3",
      "display_name": "Python 3"
    },
    "language_info": {
      "name": "python"
    },
    "accelerator": "GPU"
  },
  "cells": [
    {
      "cell_type": "code",
      "metadata": {
        "id": "KetaKkYHOt3V"
      },
      "source": [
        "!pip uninstall tensorflow -y\n",
        "!pip install tensorflow==1.14 # 1.14 버전 Tensorflow 설치"
      ],
      "execution_count": null,
      "outputs": []
    },
    {
      "cell_type": "code",
      "metadata": {
        "id": "_yBn9teSOu-V"
      },
      "source": [
        "ls"
      ],
      "execution_count": null,
      "outputs": []
    },
    {
      "cell_type": "code",
      "metadata": {
        "id": "unXPKp0sPAkv"
      },
      "source": [
        "cd .."
      ],
      "execution_count": null,
      "outputs": []
    },
    {
      "cell_type": "code",
      "metadata": {
        "id": "xDjpkBdzPBz2"
      },
      "source": [
        "ls"
      ],
      "execution_count": null,
      "outputs": []
    },
    {
      "cell_type": "code",
      "metadata": {
        "id": "LL_UtTnIPCjP"
      },
      "source": [
        "!cd content"
      ],
      "execution_count": null,
      "outputs": []
    },
    {
      "cell_type": "code",
      "metadata": {
        "id": "tZGUtVgEPJMX"
      },
      "source": [
        "ls"
      ],
      "execution_count": null,
      "outputs": []
    },
    {
      "cell_type": "code",
      "metadata": {
        "id": "c1dzKk24PSRA"
      },
      "source": [
        "cd content"
      ],
      "execution_count": null,
      "outputs": []
    },
    {
      "cell_type": "code",
      "metadata": {
        "id": "CHGNWN1HPVGx"
      },
      "source": [
        "!git clone https://github.com/kakao/khaiii.git\n",
        "!pip install cmake\n",
        "!mkdir build\n",
        "!cd build && cmake /content/khaiii\n",
        "!cd /content/build/ && make all\n",
        "!cd /content/build/ && make resource\n",
        "!cd /content/build && make install\n",
        "!cd /content/build && make package_python\n",
        "!pip install /content/build/package_python"
      ],
      "execution_count": null,
      "outputs": []
    },
    {
      "cell_type": "code",
      "metadata": {
        "id": "hdO7n4bbPXO5"
      },
      "source": [
        "!git clone https://github.com/SOMJANG/Mecab-ko-for-Google-Colab.git\n",
        "!cd Mecab-ko-for-Google-Colab/\n",
        "!bash install_mecab-ko_on_colab190912.sh"
      ],
      "execution_count": null,
      "outputs": []
    },
    {
      "cell_type": "code",
      "metadata": {
        "id": "hZKPdS97Pdiq"
      },
      "source": [
        "!pip install -U gensim==3.8.3\n",
        "!pip install python-Levenshtein\n",
        "!pip install soynlp\n",
        "!pip install soyspacing\n",
        "!pip install konlpy\n",
        "!pip install sentencepiece\n",
        "!pip install fasttext\n",
        "!python3 -m pip install --upgrade pip\n",
        "!python3 -m pip install konlpy    "
      ],
      "execution_count": null,
      "outputs": []
    },
    {
      "cell_type": "code",
      "metadata": {
        "id": "C-ZFQpLPZ08u"
      },
      "source": [
        "cd .."
      ],
      "execution_count": null,
      "outputs": []
    },
    {
      "cell_type": "code",
      "metadata": {
        "id": "77Ede9XOW1Uv"
      },
      "source": [
        "!git clone https://github.com/NVIDIA/nccl\n",
        "!cd nccl\n",
        "!make\n",
        "!sudo make install"
      ],
      "execution_count": null,
      "outputs": []
    },
    {
      "cell_type": "markdown",
      "metadata": {
        "id": "fVNwsIv1Phts"
      },
      "source": [
        "# 06 임베딩 파인 튜닝\n",
        "- 네이버 영화 리뷰 말뭉치를 가지고 극성을 분류하는 다운스트림 태스크를 수행한다."
      ]
    },
    {
      "cell_type": "markdown",
      "metadata": {
        "id": "BWmxFl_kPqWb"
      },
      "source": [
        "## 6.1. 프리트레인과 파인 튜닝\n",
        "- 파인 튜닝이란 프리트레인 이후 추가 학습을 시행해 임베딩을 다운스트림 태스크에 맞게 업데이트\n",
        "- 파인 튜닝 기법은 자연어 처리 분야에서 점차적으로 널리 쓰이고 있다."
      ]
    },
    {
      "cell_type": "markdown",
      "metadata": {
        "id": "4kMhlu3eP3Bm"
      },
      "source": [
        "## 6.2. 분류를 위한 파이프라인 만들기\n",
        "- 네이버 영화 리뷰 : 레이블이 긍부정 두 개 뿐인 간단한 문제\n"
      ]
    },
    {
      "cell_type": "markdown",
      "metadata": {
        "id": "oX-JzUwxQMtI"
      },
      "source": [
        "## 6.3. 단어 임베딩 활용"
      ]
    },
    {
      "cell_type": "markdown",
      "metadata": {
        "id": "eiO4avwBQPrA"
      },
      "source": [
        "### 6.3.1. 네트워크 개요\n",
        "- 단어 임베딩을 1개층의 양방향 LSTM 레이어에 태우고 각 LSTM 셀에서 나온 출력 벡터들에 어텐션 메커닌즘을 적용해 고정된 길이의 히든 벡터로 만든다.\n",
        "- 히든 벡터를 ReLu인 피드포워드 네트워크에 입ㄱ력한다.\n",
        "- 피드포워드 네트워크의 출력 벡터인 로짓 벡터에 소프트멕스를 취해 긍부정 2차원의 확률 벡터를 만든다\n",
        "- 이를 정답 레이블과 비교해 학습 손실을 구하고 이 손실을 최소화하는 방향으로 모델 전체를 업데이트한다.\n",
        "- 이러한 임베딩까지 모두 업데이트 하는 방법을 파인 튜닝이라고 한다."
      ]
    },
    {
      "cell_type": "markdown",
      "metadata": {
        "id": "s1u7pr3nRBLb"
      },
      "source": [
        "### 6.3.3. 튜토리얼"
      ]
    },
    {
      "cell_type": "code",
      "metadata": {
        "id": "XeEkm6lxPgCj"
      },
      "source": [
        "cd .."
      ],
      "execution_count": null,
      "outputs": []
    },
    {
      "cell_type": "code",
      "metadata": {
        "id": "UQnj8cNgRS7x"
      },
      "source": [
        "cd .."
      ],
      "execution_count": null,
      "outputs": []
    },
    {
      "cell_type": "code",
      "metadata": {
        "id": "PZPJQ_6sRTZo"
      },
      "source": [
        "cd .."
      ],
      "execution_count": null,
      "outputs": []
    },
    {
      "cell_type": "code",
      "metadata": {
        "id": "yIcqHX8IRT2Y"
      },
      "source": [
        "!mkdir notebooks"
      ],
      "execution_count": null,
      "outputs": []
    },
    {
      "cell_type": "code",
      "metadata": {
        "id": "M2waEpSKRWKx"
      },
      "source": [
        "cd notebooks"
      ],
      "execution_count": null,
      "outputs": []
    },
    {
      "cell_type": "code",
      "metadata": {
        "id": "Htt5Mc-qRXlR"
      },
      "source": [
        "!git clone https://github.com/waltechel/embedding.git"
      ],
      "execution_count": null,
      "outputs": []
    },
    {
      "cell_type": "code",
      "metadata": {
        "id": "EaIswRsHRY15"
      },
      "source": [
        "cd embedding"
      ],
      "execution_count": null,
      "outputs": []
    },
    {
      "cell_type": "markdown",
      "metadata": {
        "id": "nRJ_q_9HRify"
      },
      "source": [
        "- 코드 6-12 데이터 다운로드"
      ]
    },
    {
      "cell_type": "code",
      "metadata": {
        "id": "W_Z_o9i4RaeB"
      },
      "source": [
        "!bash preprocess.sh dump-processed\n",
        "!bash preprocess.sh dump-word-embeddings"
      ],
      "execution_count": null,
      "outputs": []
    },
    {
      "cell_type": "markdown",
      "metadata": {
        "id": "umS_2b8SRp3E"
      },
      "source": [
        "- 코드 6-13 랜덤 임베딩 파인 튜닝"
      ]
    },
    {
      "cell_type": "code",
      "metadata": {
        "id": "eLQifS3JT1Ie"
      },
      "source": [
        "ls"
      ],
      "execution_count": null,
      "outputs": []
    },
    {
      "cell_type": "code",
      "metadata": {
        "id": "27SOzCcbRmJj"
      },
      "source": [
        "!nohup sh -c \"python models/tune_utils.py --model_name word --train_corpus_fname data/processed/processed_ratings_train.txt --test_corpus_fname data/processed/processed_ratings_test.txt --embedding_name random --model_save_path data/word-embeddings/random-tune\" > tune-random.log &"
      ],
      "execution_count": null,
      "outputs": []
    },
    {
      "cell_type": "code",
      "metadata": {
        "id": "iuHlZHeBUWab"
      },
      "source": [
        "!python models/tune_utils.py --model_name word --train_corpus_fname data/processed/processed_ratings_train.txt --test_corpus_fname data/processed/processed_ratings_test.txt --embedding_name random --model_save_path data/word-embeddings/random-tune"
      ],
      "execution_count": null,
      "outputs": []
    },
    {
      "cell_type": "markdown",
      "metadata": {
        "id": "asIH81NmSNDi"
      },
      "source": [
        "- 코드 6-14 Word2Vec 임베딩 파인 튜닝"
      ]
    },
    {
      "cell_type": "code",
      "metadata": {
        "id": "Ht5uGpE6SKuR"
      },
      "source": [
        "!nohup sh -c \"python models/tune_utils.py --model_name word --train_corpus_fname data/processed/processed_ratings_train.txt --test_corpus_fname data/processed/processed_ratings_test.txt --embedding_name word2vec --embedding_fname data/word-embeddings/word2vec/word2vec --model_save_path data/word-embeddings/word2vec-tune\" > tune-word2vec.log &"
      ],
      "execution_count": null,
      "outputs": []
    },
    {
      "cell_type": "markdown",
      "metadata": {
        "id": "9eC2WxoGSrYV"
      },
      "source": [
        "- 코드 6-15 FastText 임베딩 파인 튜닝"
      ]
    },
    {
      "cell_type": "code",
      "metadata": {
        "id": "s2a1ZNuRSlws"
      },
      "source": [
        "!nohup sh -c \"python models/tune_utils.py --model_name word --train_corpus_fname data/processed/processed_ratings_train.txt --test_corpus_fname data/processed/processed_ratings_test.txt --embedding_name fasttext --embedding_fname data/word-embeddings/fasttext/fasttext.vec --model_save_path data/word-embeddings/fasttext-tune\" > tune-ft.log &"
      ],
      "execution_count": null,
      "outputs": []
    },
    {
      "cell_type": "markdown",
      "metadata": {
        "id": "2Ukrnc9bTD9P"
      },
      "source": [
        "- 코드 6-16 GloVe 임베딩 파인 튜닝"
      ]
    },
    {
      "cell_type": "code",
      "metadata": {
        "id": "RFsf8-MYTDFY"
      },
      "source": [
        "!nohup sh -c \"python models/tune_utils.py --model_name word --train_corpus_fname data/processed/processed_ratings_train.txt --test_corpus_fname data/processed/processed_ratings_test.txt --embedding_name glove --embedding_fname data/word-embeddings/glove/glove.txt --model_save_path data/word-embeddings/glove-tune\" > tune-glove.log &"
      ],
      "execution_count": null,
      "outputs": []
    },
    {
      "cell_type": "markdown",
      "metadata": {
        "id": "EhBa95ZaTgyj"
      },
      "source": [
        "- 코드 6-17 Swivel 임베딩 파인 튜닝"
      ]
    },
    {
      "cell_type": "code",
      "metadata": {
        "id": "4xnHhoksTZI5"
      },
      "source": [
        "!nohup sh -c \"python models/tune_utils.py --model_name word --train_corpus_fname data/processed/processed_ratings_train.txt --test_corpus_fname data/processed/processed_ratings_test.txt --embedding_name swivel --embedding_fname data/word-embeddings/swivel/row_embedding.tsv --model_save_path data/word-embeddings/swivel-tune\" > tune-swivel.log &"
      ],
      "execution_count": null,
      "outputs": []
    },
    {
      "cell_type": "code",
      "metadata": {
        "id": "pAgSmFUsTxnN"
      },
      "source": [
        "cd content/nccl"
      ],
      "execution_count": null,
      "outputs": []
    },
    {
      "cell_type": "code",
      "metadata": {
        "id": "lpxONGcXZHrf"
      },
      "source": [
        "!make\n",
        "!sudo make install"
      ],
      "execution_count": null,
      "outputs": []
    },
    {
      "cell_type": "code",
      "metadata": {
        "id": "CJGR0NBNar4N"
      },
      "source": [
        ""
      ],
      "execution_count": null,
      "outputs": []
    }
  ]
}