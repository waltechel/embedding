{
  "nbformat": 4,
  "nbformat_minor": 0,
  "metadata": {
    "colab": {
      "name": "embeddingChapter03.ipynb",
      "provenance": [],
      "authorship_tag": "ABX9TyOc44C8Uzae76sqZe+tuu7Q"
    },
    "kernelspec": {
      "name": "python3",
      "display_name": "Python 3"
    },
    "language_info": {
      "name": "python"
    }
  },
  "cells": [
    {
      "cell_type": "code",
      "metadata": {
        "id": "1IrsEXAqVJyw"
      },
      "source": [
        "# 해당 소스는 구글 코랩으로 Embedding을 작성한 것입니다. \n",
        "# 저자 이기창 님의 소스는 Docker-gpu가 있으면 완벽히 작동합니다만, gpu는 많은 경우 가정에서 구비되어 있지 않고, \n",
        "# 그럼에도 불구하고 일부 작동되지 않는 소스에 대해 코랩을 활용하여 실습해 보기 위함입니다.\n",
        "# 이미지를 띄우는 데 한세월이 걸리는 가정용 도커와 달리, 코랩은 어마어마하게 빠르게 동작합니다.\n",
        "# 소스를 공유해주신 이기창 님, 이렇게 편리하고 좋은 자원을 나누어주신 Google colabortory 께 감사합니다. "
      ],
      "execution_count": null,
      "outputs": []
    },
    {
      "cell_type": "code",
      "metadata": {
        "colab": {
          "base_uri": "https://localhost:8080/"
        },
        "id": "mM2v7I16VTqV",
        "outputId": "67e82250-9027-4c6e-d6b5-cbe8344695ba"
      },
      "source": [
        "ls"
      ],
      "execution_count": 14,
      "outputs": [
        {
          "output_type": "stream",
          "text": [
            "\u001b[0m\u001b[01;34mbin\u001b[0m/      \u001b[01;34mdev\u001b[0m/   \u001b[01;34mlib32\u001b[0m/  \u001b[01;34mnotebooks\u001b[0m/  \u001b[01;34mrun\u001b[0m/   \u001b[01;34mtensorflow-1.15.2\u001b[0m/  \u001b[01;34mvar\u001b[0m/\n",
            "\u001b[01;34mboot\u001b[0m/     \u001b[01;34metc\u001b[0m/   \u001b[01;34mlib64\u001b[0m/  \u001b[01;34mopt\u001b[0m/        \u001b[01;34msbin\u001b[0m/  \u001b[30;42mtmp\u001b[0m/\n",
            "\u001b[01;34mcontent\u001b[0m/  \u001b[01;34mhome\u001b[0m/  \u001b[01;34mmedia\u001b[0m/  \u001b[01;34mproc\u001b[0m/       \u001b[01;34msrv\u001b[0m/   \u001b[01;34mtools\u001b[0m/\n",
            "\u001b[01;34mdatalab\u001b[0m/  \u001b[01;34mlib\u001b[0m/   \u001b[01;34mmnt\u001b[0m/    \u001b[01;34mroot\u001b[0m/       \u001b[01;34msys\u001b[0m/   \u001b[01;34musr\u001b[0m/\n"
          ],
          "name": "stdout"
        }
      ]
    },
    {
      "cell_type": "code",
      "metadata": {
        "colab": {
          "base_uri": "https://localhost:8080/"
        },
        "id": "RYiST4w-Vel0",
        "outputId": "94c08d84-eba3-4f5a-b3c8-eb425514d16e"
      },
      "source": [
        "cd .."
      ],
      "execution_count": 15,
      "outputs": [
        {
          "output_type": "stream",
          "text": [
            "/\n"
          ],
          "name": "stdout"
        }
      ]
    },
    {
      "cell_type": "code",
      "metadata": {
        "colab": {
          "base_uri": "https://localhost:8080/"
        },
        "id": "XTW4kZf9Vfy0",
        "outputId": "8c773e89-98a0-4eb8-c353-5e0321d036e0"
      },
      "source": [
        "ls"
      ],
      "execution_count": 16,
      "outputs": [
        {
          "output_type": "stream",
          "text": [
            "\u001b[0m\u001b[01;34mbin\u001b[0m/      \u001b[01;34mdev\u001b[0m/   \u001b[01;34mlib32\u001b[0m/  \u001b[01;34mnotebooks\u001b[0m/  \u001b[01;34mrun\u001b[0m/   \u001b[01;34mtensorflow-1.15.2\u001b[0m/  \u001b[01;34mvar\u001b[0m/\n",
            "\u001b[01;34mboot\u001b[0m/     \u001b[01;34metc\u001b[0m/   \u001b[01;34mlib64\u001b[0m/  \u001b[01;34mopt\u001b[0m/        \u001b[01;34msbin\u001b[0m/  \u001b[30;42mtmp\u001b[0m/\n",
            "\u001b[01;34mcontent\u001b[0m/  \u001b[01;34mhome\u001b[0m/  \u001b[01;34mmedia\u001b[0m/  \u001b[01;34mproc\u001b[0m/       \u001b[01;34msrv\u001b[0m/   \u001b[01;34mtools\u001b[0m/\n",
            "\u001b[01;34mdatalab\u001b[0m/  \u001b[01;34mlib\u001b[0m/   \u001b[01;34mmnt\u001b[0m/    \u001b[01;34mroot\u001b[0m/       \u001b[01;34msys\u001b[0m/   \u001b[01;34musr\u001b[0m/\n"
          ],
          "name": "stdout"
        }
      ]
    },
    {
      "cell_type": "code",
      "metadata": {
        "id": "hM0zKdnRVhM2"
      },
      "source": [
        "mkdir notebooks"
      ],
      "execution_count": 4,
      "outputs": []
    },
    {
      "cell_type": "code",
      "metadata": {
        "colab": {
          "base_uri": "https://localhost:8080/"
        },
        "id": "oacZUpiNVyVv",
        "outputId": "7082ee0d-ba6d-4da3-913a-6b0b0052c1f1"
      },
      "source": [
        "cd notebooks"
      ],
      "execution_count": 17,
      "outputs": [
        {
          "output_type": "stream",
          "text": [
            "/notebooks\n"
          ],
          "name": "stdout"
        }
      ]
    },
    {
      "cell_type": "code",
      "metadata": {
        "colab": {
          "base_uri": "https://localhost:8080/"
        },
        "id": "gvCoTZaIV3MI",
        "outputId": "979213d8-f1e1-4e27-c385-25ab93fa1b33"
      },
      "source": [
        "!git clone https://github.com/waltechel/embedding.git"
      ],
      "execution_count": 18,
      "outputs": [
        {
          "output_type": "stream",
          "text": [
            "Cloning into 'embedding'...\n",
            "remote: Enumerating objects: 1743, done.\u001b[K\n",
            "remote: Counting objects: 100% (125/125), done.\u001b[K\n",
            "remote: Compressing objects: 100% (92/92), done.\u001b[K\n",
            "remote: Total 1743 (delta 76), reused 67 (delta 33), pack-reused 1618\u001b[K\n",
            "Receiving objects: 100% (1743/1743), 450.57 KiB | 4.95 MiB/s, done.\n",
            "Resolving deltas: 100% (1161/1161), done.\n"
          ],
          "name": "stdout"
        }
      ]
    },
    {
      "cell_type": "code",
      "metadata": {
        "colab": {
          "base_uri": "https://localhost:8080/"
        },
        "id": "yhpPMbiEWQVd",
        "outputId": "c3449fe2-e379-4762-c864-844db0305083"
      },
      "source": [
        "cd embedding/"
      ],
      "execution_count": 20,
      "outputs": [
        {
          "output_type": "stream",
          "text": [
            "/notebooks/embedding\n"
          ],
          "name": "stdout"
        }
      ]
    },
    {
      "cell_type": "code",
      "metadata": {
        "colab": {
          "base_uri": "https://localhost:8080/"
        },
        "id": "n9TarA9xWTFU",
        "outputId": "b151f850-6e18-49e1-f797-e27d5fae675b"
      },
      "source": [
        "ls"
      ],
      "execution_count": 21,
      "outputs": [
        {
          "output_type": "stream",
          "text": [
            "\u001b[0m\u001b[01;34mdocker\u001b[0m/  LICENSE  \u001b[01;34mpreprocess\u001b[0m/     README.md      \u001b[01;32mwordmodel.sh\u001b[0m*\n",
            "\u001b[01;34mdocs\u001b[0m/    \u001b[01;34mmodels\u001b[0m/  \u001b[01;32mpreprocess.sh\u001b[0m*  \u001b[01;32msentmodel.sh\u001b[0m*\n"
          ],
          "name": "stdout"
        }
      ]
    },
    {
      "cell_type": "code",
      "metadata": {
        "colab": {
          "base_uri": "https://localhost:8080/"
        },
        "id": "7BKlUkozWUKm",
        "outputId": "5543a048-fe64-4547-85d1-f5a7ae39ffe5"
      },
      "source": [
        "# 108p 3.3.4. 형태소 분석이 완료된 데이터 다운로드\n",
        "# 형태소 분석에 시간을 투자하고 싶지 않은 독자들은 다음 소스를 실행하면 형태소 분석을 마친 데이터셋을 한꺼번에 내려받을 수 있다.\n",
        "!bash preprocess.sh dump-tokenized"
      ],
      "execution_count": 23,
      "outputs": [
        {
          "output_type": "stream",
          "text": [
            "download tokenized data...\n",
            "--2021-08-16 19:04:11--  https://docs.google.com/uc?export=download&confirm=xjEx&id=1Ybp_DmzNEpsBrUKZ1-NoPDzCMO39f-fx\n",
            "Resolving docs.google.com (docs.google.com)... 74.125.126.138, 74.125.126.113, 74.125.126.101, ...\n",
            "Connecting to docs.google.com (docs.google.com)|74.125.126.138|:443... connected.\n",
            "HTTP request sent, awaiting response... 302 Moved Temporarily\n",
            "Location: https://doc-0c-7g-docs.googleusercontent.com/docs/securesc/qpb0d8gpir4il3mg0u4qs46901p35r3r/250o3emln76o5muvaidt0phu33baa92s/1629140625000/05170634686643261154/01594204294482617272Z/1Ybp_DmzNEpsBrUKZ1-NoPDzCMO39f-fx?e=download [following]\n",
            "--2021-08-16 19:04:11--  https://doc-0c-7g-docs.googleusercontent.com/docs/securesc/qpb0d8gpir4il3mg0u4qs46901p35r3r/250o3emln76o5muvaidt0phu33baa92s/1629140625000/05170634686643261154/01594204294482617272Z/1Ybp_DmzNEpsBrUKZ1-NoPDzCMO39f-fx?e=download\n",
            "Resolving doc-0c-7g-docs.googleusercontent.com (doc-0c-7g-docs.googleusercontent.com)... 142.250.136.132, 2607:f8b0:4001:c34::84\n",
            "Connecting to doc-0c-7g-docs.googleusercontent.com (doc-0c-7g-docs.googleusercontent.com)|142.250.136.132|:443... connected.\n",
            "HTTP request sent, awaiting response... 302 Found\n",
            "Location: https://docs.google.com/nonceSigner?nonce=iiigg1pkbsg3c&continue=https://doc-0c-7g-docs.googleusercontent.com/docs/securesc/qpb0d8gpir4il3mg0u4qs46901p35r3r/250o3emln76o5muvaidt0phu33baa92s/1629140625000/05170634686643261154/01594204294482617272Z/1Ybp_DmzNEpsBrUKZ1-NoPDzCMO39f-fx?e%3Ddownload&hash=jgf9dc5kcj2a3l6pr6qog73ot6s4c41b [following]\n",
            "--2021-08-16 19:04:11--  https://docs.google.com/nonceSigner?nonce=iiigg1pkbsg3c&continue=https://doc-0c-7g-docs.googleusercontent.com/docs/securesc/qpb0d8gpir4il3mg0u4qs46901p35r3r/250o3emln76o5muvaidt0phu33baa92s/1629140625000/05170634686643261154/01594204294482617272Z/1Ybp_DmzNEpsBrUKZ1-NoPDzCMO39f-fx?e%3Ddownload&hash=jgf9dc5kcj2a3l6pr6qog73ot6s4c41b\n",
            "Connecting to docs.google.com (docs.google.com)|74.125.126.138|:443... connected.\n",
            "HTTP request sent, awaiting response... 302 Found\n",
            "Location: https://doc-0c-7g-docs.googleusercontent.com/docs/securesc/qpb0d8gpir4il3mg0u4qs46901p35r3r/250o3emln76o5muvaidt0phu33baa92s/1629140625000/05170634686643261154/01594204294482617272Z/1Ybp_DmzNEpsBrUKZ1-NoPDzCMO39f-fx?e=download&nonce=iiigg1pkbsg3c&user=01594204294482617272Z&hash=epahnggmfkte3j44pdrjqv76c1hscevk [following]\n",
            "--2021-08-16 19:04:11--  https://doc-0c-7g-docs.googleusercontent.com/docs/securesc/qpb0d8gpir4il3mg0u4qs46901p35r3r/250o3emln76o5muvaidt0phu33baa92s/1629140625000/05170634686643261154/01594204294482617272Z/1Ybp_DmzNEpsBrUKZ1-NoPDzCMO39f-fx?e=download&nonce=iiigg1pkbsg3c&user=01594204294482617272Z&hash=epahnggmfkte3j44pdrjqv76c1hscevk\n",
            "Connecting to doc-0c-7g-docs.googleusercontent.com (doc-0c-7g-docs.googleusercontent.com)|142.250.136.132|:443... connected.\n",
            "HTTP request sent, awaiting response... 200 OK\n",
            "Length: unspecified [application/zip]\n",
            "Saving to: ‘/notebooks/embedding/data/tokenized.zip’\n",
            "\n",
            "/notebooks/embeddin     [   <=>              ] 832.29M   113MB/s    in 7.5s    \n",
            "\n",
            "2021-08-16 19:04:19 (111 MB/s) - ‘/notebooks/embedding/data/tokenized.zip’ saved [872719683]\n",
            "\n",
            "Archive:  tokenized.zip\n",
            "   creating: tokenized/\n",
            "  inflating: tokenized/korquad_mecab.txt  \n",
            "  inflating: tokenized/wiki_ko_mecab.txt  \n",
            "  inflating: tokenized/corpus_mecab_jamo.txt  \n",
            "  inflating: tokenized/ratings_okt.txt  \n",
            "  inflating: tokenized/ratings_khaiii.txt  \n",
            "  inflating: tokenized/ratings_hannanum.txt  \n",
            "  inflating: tokenized/ratings_soynlp.txt  \n",
            "  inflating: tokenized/ratings_mecab.txt  \n",
            "  inflating: tokenized/ratings_komoran.txt  \n"
          ],
          "name": "stdout"
        }
      ]
    }
  ]
}